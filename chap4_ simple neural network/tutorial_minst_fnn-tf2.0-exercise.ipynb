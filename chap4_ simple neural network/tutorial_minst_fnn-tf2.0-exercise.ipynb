{
 "cells": [
  {
   "cell_type": "markdown",
   "metadata": {},
   "source": [
    "## 准备数据"
   ]
  },
  {
   "cell_type": "code",
   "execution_count": 15,
   "metadata": {},
   "outputs": [],
   "source": [
    "import os\n",
    "import numpy as np\n",
    "import tensorflow as tf\n",
    "from tensorflow import keras\n",
    "from tensorflow.keras import layers, optimizers, datasets\n",
    "\n",
    "os.environ['TF_CPP_MIN_LOG_LEVEL'] = '2'  # or any {'0', '1', '2'}\n",
    "\n",
    "def mnist_dataset():\n",
    "    (x, y), (x_test, y_test) = datasets.mnist.load_data()\n",
    "    #normalize\n",
    "    x = x/255.0\n",
    "    x_test = x_test/255.0\n",
    "    \n",
    "    return (x, y), (x_test, y_test)"
   ]
  },
  {
   "cell_type": "code",
   "execution_count": 16,
   "metadata": {},
   "outputs": [
    {
     "name": "stdout",
     "output_type": "stream",
     "text": [
      "[(1, 'a'), (2, 'b'), (3, 'c'), (4, 'd')]\n"
     ]
    }
   ],
   "source": [
    "print(list(zip([1, 2, 3, 4], ['a', 'b', 'c', 'd'])))"
   ]
  },
  {
   "cell_type": "markdown",
   "metadata": {},
   "source": [
    "## 建立模型"
   ]
  },
  {
   "cell_type": "code",
   "execution_count": 17,
   "metadata": {},
   "outputs": [],
   "source": [
    "class myModel:\n",
    "    def __init__(self):\n",
    "        ####################\n",
    "        '''声明模型对应的参数'''\n",
    "        # self.W1 = tf.compat.v1.get_variable(name=\"W1\", shape=(784, 100), initializer=tf.random_normal_initializer(), trainable=True)\n",
    "        # self.W2 = tf.compat.v1.get_variable(name=\"W2\", shape=(100, 10), initializer=tf.random_normal_initializer(), trainable=True)\n",
    "        # self.b1 = tf.compat.v1.get_variable(name=\"b1\", shape=(100, ), trainable=True)\n",
    "        # self.b2 = tf.compat.v1.get_variable(name=\"b2\", shape=(10, ), trainable=True)\n",
    "        self.W1 = tf.Variable(shape=[28*28, 100], dtype=tf.float32,initial_value=tf.random.uniform(shape=[28*28, 100],minval=-0.1, maxval=0.1))\n",
    "        self.b1 = tf.Variable(shape=[100], dtype=tf.float32, initial_value=tf.zeros(100))\n",
    "        self.W2 = tf.Variable(shape=[100, 10], dtype=tf.float32,initial_value=tf.random.uniform(shape=[100, 10],minval=-0.1, maxval=0.1))\n",
    "        self.b2 = tf.Variable(shape=[10], dtype=tf.float32, initial_value=tf.zeros(10))\n",
    "        self.trainable_variables = [self.W1, self.W2, self.b1, self.b2]\n",
    "        ####################\n",
    "    def __call__(self, x):\n",
    "        ####################\n",
    "        '''实现模型函数体，返回未归一化的logits'''\n",
    "        # x_prime = tf.reshape(x, [-1, 784])\n",
    "        # h1 = tf.nn.relu(tf.matmul(x_prime, self.W1)+self.b1)\n",
    "        # logits = tf.matmul(h1, self.W2)+self.b2\n",
    "        flat_x = tf.reshape(x, shape=[-1, 28*28])\n",
    "        h1 = tf.tanh(tf.matmul(flat_x, self.W1) + self.b1)\n",
    "        logits = tf.matmul(h1, self.W2) + self.b2\n",
    "        ####################\n",
    "        return logits\n",
    "        \n",
    "model = myModel()\n",
    "\n",
    "optimizer = optimizers.Adam()"
   ]
  },
  {
   "cell_type": "markdown",
   "metadata": {},
   "source": [
    "## 计算 loss"
   ]
  },
  {
   "cell_type": "code",
   "execution_count": 18,
   "metadata": {},
   "outputs": [],
   "source": [
    "@tf.function\n",
    "def compute_loss(logits, labels):\n",
    "    return tf.reduce_mean(\n",
    "        tf.nn.sparse_softmax_cross_entropy_with_logits(\n",
    "            logits=logits, labels=labels))\n",
    "\n",
    "@tf.function\n",
    "def compute_accuracy(logits, labels):\n",
    "    predictions = tf.argmax(logits, axis=1)\n",
    "    return tf.reduce_mean(tf.cast(tf.equal(predictions, labels), tf.float32))\n",
    "\n",
    "@tf.function\n",
    "def train_one_step(model, optimizer, x, y):\n",
    "    with tf.GradientTape() as tape:\n",
    "        logits = model(x)\n",
    "        loss = compute_loss(logits, y)\n",
    "\n",
    "    # compute gradient\n",
    "    trainable_vars = [model.W1, model.W2, model.b1, model.b2]\n",
    "    grads = tape.gradient(loss, trainable_vars)\n",
    "    for g, v in zip(grads, trainable_vars):\n",
    "        v.assign_sub(0.01*g)\n",
    "\n",
    "    accuracy = compute_accuracy(logits, y)\n",
    "\n",
    "    # loss and accuracy is scalar tensor\n",
    "    return loss, accuracy\n",
    "\n",
    "@tf.function\n",
    "def test(model, x, y):\n",
    "    logits = model(x)\n",
    "    loss = compute_loss(logits, y)\n",
    "    accuracy = compute_accuracy(logits, y)\n",
    "    return loss, accuracy"
   ]
  },
  {
   "cell_type": "markdown",
   "metadata": {},
   "source": [
    "## 实际训练"
   ]
  },
  {
   "cell_type": "code",
   "execution_count": 19,
   "metadata": {},
   "outputs": [
    {
     "name": "stdout",
     "output_type": "stream",
     "text": [
      "epoch 0 : loss 2.3071432 ; accuracy 0.15588333\n",
      "epoch 1 : loss 2.3020298 ; accuracy 0.16215\n",
      "epoch 2 : loss 2.296952 ; accuracy 0.16825\n",
      "epoch 3 : loss 2.291908 ; accuracy 0.17456667\n",
      "epoch 4 : loss 2.2868967 ; accuracy 0.18111667\n",
      "epoch 5 : loss 2.2819169 ; accuracy 0.18708333\n",
      "epoch 6 : loss 2.2769678 ; accuracy 0.1929\n",
      "epoch 7 : loss 2.2720482 ; accuracy 0.19923334\n",
      "epoch 8 : loss 2.2671568 ; accuracy 0.2049\n",
      "epoch 9 : loss 2.2622936 ; accuracy 0.21083333\n",
      "epoch 10 : loss 2.2574568 ; accuracy 0.21703333\n",
      "epoch 11 : loss 2.2526464 ; accuracy 0.22263333\n",
      "epoch 12 : loss 2.2478604 ; accuracy 0.2287\n",
      "epoch 13 : loss 2.243099 ; accuracy 0.23476666\n",
      "epoch 14 : loss 2.238361 ; accuracy 0.24068333\n",
      "epoch 15 : loss 2.233646 ; accuracy 0.24673334\n",
      "epoch 16 : loss 2.2289531 ; accuracy 0.25251666\n",
      "epoch 17 : loss 2.2242815 ; accuracy 0.25823334\n",
      "epoch 18 : loss 2.2196307 ; accuracy 0.26403335\n",
      "epoch 19 : loss 2.215 ; accuracy 0.27005\n",
      "epoch 20 : loss 2.2103894 ; accuracy 0.27506667\n",
      "epoch 21 : loss 2.2057972 ; accuracy 0.28125\n",
      "epoch 22 : loss 2.2012234 ; accuracy 0.28655\n",
      "epoch 23 : loss 2.1966681 ; accuracy 0.2922\n",
      "epoch 24 : loss 2.1921296 ; accuracy 0.29778334\n",
      "epoch 25 : loss 2.1876085 ; accuracy 0.30326667\n",
      "epoch 26 : loss 2.1831038 ; accuracy 0.30873334\n",
      "epoch 27 : loss 2.1786149 ; accuracy 0.31421667\n",
      "epoch 28 : loss 2.1741414 ; accuracy 0.31951666\n",
      "epoch 29 : loss 2.169683 ; accuracy 0.32526666\n",
      "epoch 30 : loss 2.1652393 ; accuracy 0.33071667\n",
      "epoch 31 : loss 2.1608102 ; accuracy 0.33556667\n",
      "epoch 32 : loss 2.1563947 ; accuracy 0.3407\n",
      "epoch 33 : loss 2.1519928 ; accuracy 0.34613332\n",
      "epoch 34 : loss 2.1476042 ; accuracy 0.35215\n",
      "epoch 35 : loss 2.143228 ; accuracy 0.35746667\n",
      "epoch 36 : loss 2.1388648 ; accuracy 0.36318332\n",
      "epoch 37 : loss 2.1345136 ; accuracy 0.3685\n",
      "epoch 38 : loss 2.1301742 ; accuracy 0.37338334\n",
      "epoch 39 : loss 2.1258461 ; accuracy 0.37886667\n",
      "epoch 40 : loss 2.1215296 ; accuracy 0.3842\n",
      "epoch 41 : loss 2.117224 ; accuracy 0.38968334\n",
      "epoch 42 : loss 2.112929 ; accuracy 0.39515\n",
      "epoch 43 : loss 2.1086445 ; accuracy 0.40046668\n",
      "epoch 44 : loss 2.10437 ; accuracy 0.4057\n",
      "epoch 45 : loss 2.1001058 ; accuracy 0.41116667\n",
      "epoch 46 : loss 2.095851 ; accuracy 0.41673332\n",
      "epoch 47 : loss 2.091606 ; accuracy 0.42185\n",
      "epoch 48 : loss 2.0873697 ; accuracy 0.42706665\n",
      "epoch 49 : loss 2.083143 ; accuracy 0.43205\n",
      "test loss 2.077579 ; accuracy 0.438\n"
     ]
    }
   ],
   "source": [
    "train_data, test_data = mnist_dataset()\n",
    "for epoch in range(50):\n",
    "    loss, accuracy = train_one_step(model, optimizer, \n",
    "                                    tf.constant(train_data[0], dtype=tf.float32), \n",
    "                                    tf.constant(train_data[1], dtype=tf.int64))\n",
    "    print('epoch', epoch, ': loss', loss.numpy(), '; accuracy', accuracy.numpy())\n",
    "loss, accuracy = test(model, \n",
    "                      tf.constant(test_data[0], dtype=tf.float32), \n",
    "                      tf.constant(test_data[1], dtype=tf.int64))\n",
    "\n",
    "print('test loss', loss.numpy(), '; accuracy', accuracy.numpy())"
   ]
  },
  {
   "cell_type": "code",
   "execution_count": null,
   "metadata": {},
   "outputs": [],
   "source": []
  }
 ],
 "metadata": {
  "kernelspec": {
   "display_name": "nndl",
   "language": "python",
   "name": "python3"
  },
  "language_info": {
   "codemirror_mode": {
    "name": "ipython",
    "version": 3
   },
   "file_extension": ".py",
   "mimetype": "text/x-python",
   "name": "python",
   "nbconvert_exporter": "python",
   "pygments_lexer": "ipython3",
   "version": "3.9.21"
  }
 },
 "nbformat": 4,
 "nbformat_minor": 2
}
