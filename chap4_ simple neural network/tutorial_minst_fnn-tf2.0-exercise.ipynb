{
 "cells": [
  {
   "cell_type": "markdown",
   "metadata": {},
   "source": [
    "## 准备数据"
   ]
  },
  {
   "cell_type": "code",
   "execution_count": 1,
   "metadata": {},
   "outputs": [],
   "source": [
    "import os\n",
    "import numpy as np\n",
    "import tensorflow as tf\n",
    "from tensorflow import keras\n",
    "from tensorflow.keras import layers, optimizers, datasets\n",
    "\n",
    "os.environ['TF_CPP_MIN_LOG_LEVEL'] = '2'  # or any {'0', '1', '2'}\n",
    "\n",
    "def mnist_dataset():\n",
    "    (x, y), (x_test, y_test) = datasets.mnist.load_data()\n",
    "    #normalize\n",
    "    x = x/255.0\n",
    "    x_test = x_test/255.0\n",
    "    \n",
    "    return (x, y), (x_test, y_test)"
   ]
  },
  {
   "cell_type": "code",
   "execution_count": 2,
   "metadata": {},
   "outputs": [
    {
     "name": "stdout",
     "output_type": "stream",
     "text": [
      "[(1, 'a'), (2, 'b'), (3, 'c'), (4, 'd')]\n"
     ]
    }
   ],
   "source": [
    "print(list(zip([1, 2, 3, 4], ['a', 'b', 'c', 'd'])))"
   ]
  },
  {
   "cell_type": "markdown",
   "metadata": {},
   "source": [
    "## 建立模型"
   ]
  },
  {
   "cell_type": "code",
   "execution_count": 7,
   "metadata": {},
   "outputs": [],
   "source": [
    "class myModel:\n",
    "    def __init__(self):\n",
    "        ####################\n",
    "        '''声明模型对应的参数'''\n",
    "        self.W1 = tf.compat.v1.get_variable(name=\"W1\", shape=(784, 100), initializer=tf.random_normal_initializer(), trainable=True)\n",
    "        self.W2 = tf.compat.v1.get_variable(name=\"W2\", shape=(100, 10), initializer=tf.random_normal_initializer(), trainable=True)\n",
    "        self.b1 = tf.compat.v1.get_variable(name=\"b1\", shape=(100, ), trainable=True)\n",
    "        self.b2 = tf.compat.v1.get_variable(name=\"b2\", shape=(10, ), trainable=True)\n",
    "        ####################\n",
    "    def __call__(self, x):\n",
    "        ####################\n",
    "        '''实现模型函数体，返回未归一化的logits'''\n",
    "        x_prime = tf.reshape(x, [-1, 784])\n",
    "        h1 = tf.nn.relu(tf.matmul(x_prime, self.W1)+self.b1)\n",
    "        logits = tf.matmul(h1, self.W2)+self.b2\n",
    "        ####################\n",
    "        return logits\n",
    "        \n",
    "model = myModel()\n",
    "\n",
    "optimizer = optimizers.Adam()"
   ]
  },
  {
   "cell_type": "markdown",
   "metadata": {},
   "source": [
    "## 计算 loss"
   ]
  },
  {
   "cell_type": "code",
   "execution_count": 8,
   "metadata": {},
   "outputs": [],
   "source": [
    "@tf.function\n",
    "def compute_loss(logits, labels):\n",
    "    return tf.reduce_mean(\n",
    "        tf.nn.sparse_softmax_cross_entropy_with_logits(\n",
    "            logits=logits, labels=labels))\n",
    "\n",
    "@tf.function\n",
    "def compute_accuracy(logits, labels):\n",
    "    predictions = tf.argmax(logits, axis=1)\n",
    "    return tf.reduce_mean(tf.cast(tf.equal(predictions, labels), tf.float32))\n",
    "\n",
    "@tf.function\n",
    "def train_one_step(model, optimizer, x, y):\n",
    "    with tf.GradientTape() as tape:\n",
    "        logits = model(x)\n",
    "        loss = compute_loss(logits, y)\n",
    "\n",
    "    # compute gradient\n",
    "    trainable_vars = [model.W1, model.W2, model.b1, model.b2]\n",
    "    grads = tape.gradient(loss, trainable_vars)\n",
    "    for g, v in zip(grads, trainable_vars):\n",
    "        v.assign_sub(0.01*g)\n",
    "\n",
    "    accuracy = compute_accuracy(logits, y)\n",
    "\n",
    "    # loss and accuracy is scalar tensor\n",
    "    return loss, accuracy\n",
    "\n",
    "@tf.function\n",
    "def test(model, x, y):\n",
    "    logits = model(x)\n",
    "    loss = compute_loss(logits, y)\n",
    "    accuracy = compute_accuracy(logits, y)\n",
    "    return loss, accuracy"
   ]
  },
  {
   "cell_type": "markdown",
   "metadata": {},
   "source": [
    "## 实际训练"
   ]
  },
  {
   "cell_type": "code",
   "execution_count": 9,
   "metadata": {},
   "outputs": [
    {
     "name": "stdout",
     "output_type": "stream",
     "text": [
      "epoch 0 : loss 2.3184364 ; accuracy 0.1193\n",
      "epoch 1 : loss 2.315961 ; accuracy 0.1203\n",
      "epoch 2 : loss 2.3134954 ; accuracy 0.121583335\n",
      "epoch 3 : loss 2.311039 ; accuracy 0.123\n",
      "epoch 4 : loss 2.3085916 ; accuracy 0.124\n",
      "epoch 5 : loss 2.306153 ; accuracy 0.1251\n",
      "epoch 6 : loss 2.3037226 ; accuracy 0.12595\n",
      "epoch 7 : loss 2.3013 ; accuracy 0.1269\n",
      "epoch 8 : loss 2.2988849 ; accuracy 0.12793334\n",
      "epoch 9 : loss 2.2964768 ; accuracy 0.1287\n",
      "epoch 10 : loss 2.2940757 ; accuracy 0.12945\n",
      "epoch 11 : loss 2.2916822 ; accuracy 0.13028333\n",
      "epoch 12 : loss 2.2892947 ; accuracy 0.13105\n",
      "epoch 13 : loss 2.286914 ; accuracy 0.13213333\n",
      "epoch 14 : loss 2.284539 ; accuracy 0.1332\n",
      "epoch 15 : loss 2.2821693 ; accuracy 0.134\n",
      "epoch 16 : loss 2.2798047 ; accuracy 0.13508333\n",
      "epoch 17 : loss 2.2774446 ; accuracy 0.13598333\n",
      "epoch 18 : loss 2.275089 ; accuracy 0.13666667\n",
      "epoch 19 : loss 2.2727375 ; accuracy 0.13771667\n",
      "epoch 20 : loss 2.27039 ; accuracy 0.13858333\n",
      "epoch 21 : loss 2.2680464 ; accuracy 0.13928333\n",
      "epoch 22 : loss 2.2657056 ; accuracy 0.14\n",
      "epoch 23 : loss 2.2633681 ; accuracy 0.14123334\n",
      "epoch 24 : loss 2.2610328 ; accuracy 0.14211667\n",
      "epoch 25 : loss 2.2587 ; accuracy 0.14303334\n",
      "epoch 26 : loss 2.2563698 ; accuracy 0.14373334\n",
      "epoch 27 : loss 2.2540417 ; accuracy 0.1446\n",
      "epoch 28 : loss 2.2517154 ; accuracy 0.14566667\n",
      "epoch 29 : loss 2.2493908 ; accuracy 0.14698334\n",
      "epoch 30 : loss 2.2470684 ; accuracy 0.1481\n",
      "epoch 31 : loss 2.244747 ; accuracy 0.14946666\n",
      "epoch 32 : loss 2.2424266 ; accuracy 0.15106666\n",
      "epoch 33 : loss 2.240107 ; accuracy 0.15213333\n",
      "epoch 34 : loss 2.237788 ; accuracy 0.15375\n",
      "epoch 35 : loss 2.2354693 ; accuracy 0.15541667\n",
      "epoch 36 : loss 2.233151 ; accuracy 0.15715\n",
      "epoch 37 : loss 2.2308328 ; accuracy 0.1593\n",
      "epoch 38 : loss 2.2285147 ; accuracy 0.16136667\n",
      "epoch 39 : loss 2.2261956 ; accuracy 0.16353333\n",
      "epoch 40 : loss 2.2238765 ; accuracy 0.16583334\n",
      "epoch 41 : loss 2.2215567 ; accuracy 0.16811667\n",
      "epoch 42 : loss 2.219236 ; accuracy 0.17076667\n",
      "epoch 43 : loss 2.2169147 ; accuracy 0.1734\n",
      "epoch 44 : loss 2.214592 ; accuracy 0.17658333\n",
      "epoch 45 : loss 2.2122676 ; accuracy 0.17981666\n",
      "epoch 46 : loss 2.209942 ; accuracy 0.1828\n",
      "epoch 47 : loss 2.2076147 ; accuracy 0.18543333\n",
      "epoch 48 : loss 2.2052853 ; accuracy 0.18838333\n",
      "epoch 49 : loss 2.2029538 ; accuracy 0.1921\n",
      "test loss 2.1992724 ; accuracy 0.1993\n"
     ]
    }
   ],
   "source": [
    "train_data, test_data = mnist_dataset()\n",
    "for epoch in range(50):\n",
    "    loss, accuracy = train_one_step(model, optimizer, \n",
    "                                    tf.constant(train_data[0], dtype=tf.float32), \n",
    "                                    tf.constant(train_data[1], dtype=tf.int64))\n",
    "    print('epoch', epoch, ': loss', loss.numpy(), '; accuracy', accuracy.numpy())\n",
    "loss, accuracy = test(model, \n",
    "                      tf.constant(test_data[0], dtype=tf.float32), \n",
    "                      tf.constant(test_data[1], dtype=tf.int64))\n",
    "\n",
    "print('test loss', loss.numpy(), '; accuracy', accuracy.numpy())"
   ]
  },
  {
   "cell_type": "code",
   "execution_count": null,
   "metadata": {},
   "outputs": [],
   "source": []
  }
 ],
 "metadata": {
  "kernelspec": {
   "display_name": "nndl",
   "language": "python",
   "name": "python3"
  },
  "language_info": {
   "codemirror_mode": {
    "name": "ipython",
    "version": 3
   },
   "file_extension": ".py",
   "mimetype": "text/x-python",
   "name": "python",
   "nbconvert_exporter": "python",
   "pygments_lexer": "ipython3",
   "version": "3.9.21"
  }
 },
 "nbformat": 4,
 "nbformat_minor": 2
}
